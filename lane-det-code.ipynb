{
 "cells": [
  {
   "cell_type": "code",
   "execution_count": null,
   "metadata": {},
   "outputs": [],
   "source": [
    "!pip install matplotlib "
   ]
  },
  {
   "cell_type": "code",
   "execution_count": null,
   "metadata": {},
   "outputs": [],
   "source": [
    "#importing the requisite libraries\n",
    "import numpy as np\n",
    "import matplotlib.pyplot as plt\n",
    "import cv2"
   ]
  },
  {
   "cell_type": "code",
   "execution_count": null,
   "metadata": {},
   "outputs": [],
   "source": [
    "image_path = r\"D:\\Projects\\Lane-Detection\\Images\\test_image.jpg\"\n",
    "image = cv2.imread(image_path) #converts the image into multidimensional numpy array\n",
    "cv2.imshow('result', image)\n",
    "cv2.waitKey(0)\n",
    "#plt.imshow(image)"
   ]
  },
  {
   "cell_type": "code",
   "execution_count": null,
   "metadata": {},
   "outputs": [],
   "source": [
    " #converting image to grayscale\n",
    "#copy_image = np.copy(image)\n",
    "gray = cv2.cvtColor(copy_image, cv2.COLOR_RGB2GRAY)\n",
    "cv2.imshow('result', gray)\n",
    "cv2.waitKey(0)"
   ]
  },
  {
   "cell_type": "code",
   "execution_count": null,
   "metadata": {},
   "outputs": [],
   "source": [
    "#applying gaussian blur\n",
    "blur_image = cv2.GaussianBlur(gray, (5,5), 0)\n",
    "cv2.imshow('result', blur_image)\n",
    "cv2.waitKey(0)\n"
   ]
  },
  {
   "cell_type": "code",
   "execution_count": null,
   "metadata": {
    "scrolled": true
   },
   "outputs": [],
   "source": [
    "\n",
    "#applying canny edge function\n",
    "c = cv2.Canny(blur_image, 50,150)\n",
    "cv2.imshow('result', c)\n",
    "cv2.waitKey(0)"
   ]
  },
  {
   "cell_type": "code",
   "execution_count": null,
   "metadata": {},
   "outputs": [],
   "source": [
    "copy_image = np.copy(image)"
   ]
  },
  {
   "cell_type": "code",
   "execution_count": null,
   "metadata": {
    "scrolled": true
   },
   "outputs": [],
   "source": [
    "#canny function will contain all the above changes applied on the image\n",
    "def canny(image):\n",
    "    gray = cv2.cvtColor(copy_image, cv2.COLOR_RGB2GRAY) #original image\n",
    "    blur_image = cv2.GaussianBlur(gray, (5,5), 0)\n",
    "    canny = cv2.Canny(blur_image, 50,150)\n",
    "    return canny\n",
    "\n",
    "plt.imshow(canny(copy_image))\n",
    "\n",
    "\n",
    "    \n",
    "    "
   ]
  },
  {
   "cell_type": "markdown",
   "metadata": {},
   "source": [
    "Thus we got the image that is grayscaled, gaussiun blurred and applied on with canny algorithm. \n"
   ]
  },
  {
   "cell_type": "code",
   "execution_count": null,
   "metadata": {
    "scrolled": true
   },
   "outputs": [],
   "source": [
    "c1 = canny(copy_image) #making an array of image applied with canny edge function"
   ]
  },
  {
   "cell_type": "code",
   "execution_count": null,
   "metadata": {},
   "outputs": [],
   "source": [
    "\n",
    "#finding the region of interest i.e. the region we want to work on\n",
    "def region_of_int(image):\n",
    "    height = image.shape[0] #assigning the row of the image shape as height variable\n",
    "    #defining the coordinates of the triangular region of our interest\n",
    "    polygons = np.array([\n",
    "        [(200,height), (1100, height), (550, 250)]\n",
    "    ])\n",
    "    #creating an array of same shape as triangle obtained, but containing zeroes only,tracing it on black pixels  \n",
    "    mask = np.zeros_like(image)\n",
    "    cv2.fillPoly(mask, polygons, 255)#filling the traced polygon with white\n",
    "    return mask\n",
    "    \n",
    "cv2.imshow(\"result\", region_of_int(c1))\n",
    "cv2.waitKey(0)\n",
    "    \n",
    "    "
   ]
  },
  {
   "cell_type": "code",
   "execution_count": null,
   "metadata": {},
   "outputs": [],
   "source": [
    "#applying bitwise and on the canny edge image and traced image\n",
    "def region_of_int(image):\n",
    "    height = image.shape[0] #assigning the row of the image shape as height variable\n",
    "    #defining the coordinates of the triangular region of our interest\n",
    "    polygons = np.array([\n",
    "        [(200,height), (1100, height), (550, 250)]\n",
    "    ])\n",
    "    #creating an array of same shape as triangle obtained, but containing zeroes only and tracing it on black pixels  \n",
    "    mask = np.zeros_like(image)\n",
    "    cv2.fillPoly(mask, polygons, 255)\n",
    "    masked_image = cv2.bitwise_and(image, mask) #masking by applying bitwise and func\n",
    "    return masked_image\n",
    "\n"
   ]
  },
  {
   "cell_type": "code",
   "execution_count": null,
   "metadata": {},
   "outputs": [],
   "source": [
    "cropped_image = region_of_int(c1)\n",
    "cv2.imshow(\"result\", cropped_image)\n",
    "cv2.waitKey(0)"
   ]
  },
  {
   "cell_type": "code",
   "execution_count": null,
   "metadata": {},
   "outputs": [],
   "source": [
    "#applying Hough transform \n",
    "#creating the 2-d hough array, second and third argument define the grid precision pixels and radian, and fourth arg describes threshold of int. \n",
    "lines = cv2.HoughLinesP(cropped_image, 2, np.pi/180, 100, np.array([]), minLineLength = 40, maxLineGap = 5)\n",
    "\n",
    "def display_lines(image, lines):\n",
    "    line_image = np.zeros_like(image)#creating an array of same pixels as original img\n",
    "    if lines is not None: \n",
    "       for line in lines:\n",
    "            x1, y1, x2, y2= line.reshape(4)\n",
    "            cv2.line(line_image, (x1, y1), (x2, y2), (255, 0, 0), 10)\n",
    "    return line_image \n",
    "    \n",
    "    \n",
    "\n"
   ]
  },
  {
   "cell_type": "code",
   "execution_count": null,
   "metadata": {},
   "outputs": [],
   "source": [
    "line_image = display_lines(copy_image, lines)\n",
    "cv2.imshow(\"result\", line_image)\n",
    "cv2.waitKey(0)"
   ]
  },
  {
   "cell_type": "code",
   "execution_count": null,
   "metadata": {},
   "outputs": [],
   "source": [
    "#take sum of color image(copy_image) with line image with weights, i.e merging the black and original image\n",
    "combo_image = cv2.addWeighted(copy_image, 0.8, line_image, 1, 1)\n",
    "cv2.imshow(\"result\", combo_image)\n",
    "cv2.waitKey(0)"
   ]
  },
  {
   "cell_type": "code",
   "execution_count": null,
   "metadata": {},
   "outputs": [],
   "source": [
    "#optimization \n",
    "\n",
    "#the coordinates for the averaged out single line\n",
    "def make_coord(image, line_parameters):\n",
    "    slope, intercept = line_parameters\n",
    "    y1 = image.shape[0]\n",
    "    y2 = int(y1*(3/5)) #till 3/5th of the lenght\n",
    "    x1 = int((y1 - intercept)/slope) #from basic line formula\n",
    "    x2 = int((y2 - intercept)/slope)\n",
    "    return np.array([x1, y1, x2, y2])\n",
    "  \n",
    "\n",
    "\n",
    "#average out the slope of multiple lines and make one line\n",
    "def average_slope_int(image, lines):\n",
    "    left_fit= []\n",
    "    right_fit = []\n",
    "    for line in lines:\n",
    "        x1, y1, x2, y2= line.reshape(4)\n",
    "        parameters = np.polyfit((x1, x2), (y1, y2), 1) #fit a first deg polynomial in the given coordinates and return a vector of slope and y intercept\n",
    "        slope = parameters[0]\n",
    "        intercept = parameters[1]\n",
    "        if slope < 0:\n",
    "            left_fit.append((slope, intercept))\n",
    "        else: \n",
    "            right_fit.append((slope, intercept))\n",
    "    #averaging out all the slope values we got in each fit\n",
    "    left_fit_avg = np.average(left_fit, axis = 0)\n",
    "    right_fit_avg = np.average(right_fit, axis = 0)\n",
    "    left_line = make_coord(image, left_fit_avg)\n",
    "    right_line = make_coord(image, right_fit_avg)\n",
    "    return np.array([left_line, right_line])\n",
    "            "
   ]
  },
  {
   "cell_type": "code",
   "execution_count": null,
   "metadata": {},
   "outputs": [],
   "source": [
    "averaged_lines = average_slope_int(copy_image, lines)\n",
    "line_image = display_lines(copy_image, averaged_lines)\n",
    "cv2.imshow(\"result\", line_image)\n",
    "cv2.waitKey(0)\n",
    "\n"
   ]
  },
  {
   "cell_type": "code",
   "execution_count": null,
   "metadata": {},
   "outputs": [],
   "source": [
    "combo_image = cv2.addWeighted(copy_image, 0.8, line_image, 1, 1)\n",
    "cv2.imshow(\"result\", combo_image)\n",
    "cv2.waitKey(0)"
   ]
  },
  {
   "cell_type": "code",
   "execution_count": null,
   "metadata": {},
   "outputs": [],
   "source": []
  }
 ],
 "metadata": {
  "kernelspec": {
   "display_name": "Python 3",
   "language": "python",
   "name": "python3"
  },
  "language_info": {
   "codemirror_mode": {
    "name": "ipython",
    "version": 3
   },
   "file_extension": ".py",
   "mimetype": "text/x-python",
   "name": "python",
   "nbconvert_exporter": "python",
   "pygments_lexer": "ipython3",
   "version": "3.7.4"
  }
 },
 "nbformat": 4,
 "nbformat_minor": 2
}
